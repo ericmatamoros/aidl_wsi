{
 "cells": [
  {
   "cell_type": "code",
   "execution_count": 53,
   "metadata": {},
   "outputs": [],
   "source": [
    "import os\n",
    "import pandas as pd\n",
    "from sklearn.preprocessing import LabelEncoder"
   ]
  },
  {
   "cell_type": "code",
   "execution_count": 49,
   "metadata": {},
   "outputs": [],
   "source": [
    "df = pd.read_excel(\"/Users/ericmatamoros/Desktop/aidl_wsi/mil_wsi/data_bracs/BRACS.xlsx\")\n",
    "data_dir = \"/Users/ericmatamoros/Desktop/aidl_wsi/mil_wsi/data_bracs/\"\n",
    "\n",
    "files = os.listdir(data_dir)\n",
    "files = [x for x in files if '.svs' in x]\n",
    "\n",
    "df['slide'] =[f\"{x}.svs\" for x in df['WSI Filename']]\n",
    "df = df[df['slide'].isin(files)]\n",
    "\n",
    "\n",
    "df = df.drop(columns = ['WSI Filename','Set'])\n",
    "\n",
    "label_encoder = LabelEncoder()\n",
    "df[\"target\"] = label_encoder.fit_transform(df[\"WSI label\"])\n",
    "\n",
    "df.columns = [x.lower() for x in df.columns]"
   ]
  },
  {
   "cell_type": "code",
   "execution_count": 50,
   "metadata": {},
   "outputs": [],
   "source": [
    "df.to_csv(f\"{data_dir}target.csv\", index=False)"
   ]
  },
  {
   "cell_type": "code",
   "execution_count": 52,
   "metadata": {},
   "outputs": [
    {
     "data": {
      "text/plain": [
       "83"
      ]
     },
     "execution_count": 52,
     "metadata": {},
     "output_type": "execute_result"
    }
   ],
   "source": [
    "len(files)"
   ]
  },
  {
   "cell_type": "code",
   "execution_count": 54,
   "metadata": {},
   "outputs": [],
   "source": [
    "df = pd.read_excel(\"/Users/ericmatamoros/Desktop/aidl_wsi/mil_wsi/data_bracs/BRACS.xlsx\")\n",
    "data_dir = \"/Users/ericmatamoros/Desktop/aidl_wsi/mil_wsi/data_bracs/\"\n",
    "\n",
    "files = os.listdir(data_dir)\n",
    "files = [x for x in files if '.svs' in x]\n",
    "\n",
    "df['slide'] =[f\"{x}.svs\" for x in df['WSI Filename']]\n",
    "df = df[df['slide'].isin(files)]\n"
   ]
  },
  {
   "cell_type": "code",
   "execution_count": 59,
   "metadata": {},
   "outputs": [
    {
     "data": {
      "text/plain": [
       "['BRACS_1267.svs',\n",
       " 'BRACS_1269.svs',\n",
       " 'BRACS_1378.svs',\n",
       " 'BRACS_1385.svs',\n",
       " 'BRACS_1386.svs',\n",
       " 'BRACS_1401.svs',\n",
       " 'BRACS_1403.svs',\n",
       " 'BRACS_1404.svs',\n",
       " 'BRACS_1405.svs',\n",
       " 'BRACS_1409.svs',\n",
       " 'BRACS_1507.svs',\n",
       " 'BRACS_1513.svs',\n",
       " 'BRACS_1594.svs',\n",
       " 'BRACS_1606.svs',\n",
       " 'BRACS_1617.svs',\n",
       " 'BRACS_1641.svs',\n",
       " 'BRACS_1645.svs',\n",
       " 'BRACS_1658.svs',\n",
       " 'BRACS_1793.svs',\n",
       " 'BRACS_1918.svs',\n",
       " 'BRACS_1973.svs',\n",
       " 'BRACS_2001.svs',\n",
       " 'BRACS_3317.svs',\n",
       " 'BRACS_1003685.svs']"
      ]
     },
     "execution_count": 59,
     "metadata": {},
     "output_type": "execute_result"
    }
   ],
   "source": [
    "df[df['Set'] == 'Training'].slide.tolist()"
   ]
  },
  {
   "cell_type": "code",
   "execution_count": null,
   "metadata": {},
   "outputs": [],
   "source": []
  }
 ],
 "metadata": {
  "kernelspec": {
   "display_name": "wsi",
   "language": "python",
   "name": "python3"
  },
  "language_info": {
   "codemirror_mode": {
    "name": "ipython",
    "version": 3
   },
   "file_extension": ".py",
   "mimetype": "text/x-python",
   "name": "python",
   "nbconvert_exporter": "python",
   "pygments_lexer": "ipython3",
   "version": "3.10.0"
  },
  "orig_nbformat": 4
 },
 "nbformat": 4,
 "nbformat_minor": 2
}
